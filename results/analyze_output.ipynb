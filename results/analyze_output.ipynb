{
 "cells": [
  {
   "cell_type": "markdown",
   "metadata": {},
   "source": [
    "# Setup"
   ]
  },
  {
   "cell_type": "code",
   "execution_count": null,
   "metadata": {},
   "outputs": [],
   "source": [
    "import numpy as np\n",
    "import pandas as pd\n",
    "from matplotlib import pyplot as plt"
   ]
  },
  {
   "cell_type": "code",
   "execution_count": 74,
   "metadata": {},
   "outputs": [],
   "source": [
    "procs_added = pd.read_csv(\"procs_added.txt\", index_col=None, names=[\"tick\", \"machineID\", \"procType\", \"sla\", \"actualComp\", \"migrated\"])\n",
    "procs_current = pd.read_csv(\"procs_current.txt\", index_col=None, names=[\"tick\", \"machineID\", \"isActive\", \"sla\", \"actualComp\", \"compDone\"])\n",
    "procs_done = pd.read_csv(\"procs_done.txt\", index_col=None, names=[\"tick\", \"machineID\", \"procType\", \"sla\", \"ticksPassed\", \"actualComp\"])\n",
    "procs_killed = pd.read_csv(\"procs_killed.txt\", index_col=None, names=[\"tick\", \"machineID\", \"sla\", \"compDone\", \"memUsed\"])\n",
    "\n",
    "util_metrics = pd.read_csv(\"usage.txt\", index_col=None, names=[\"tick\", \"machineID\", \"maxTicksPassedToSlaRatio\", \"memUsage\", \"qlen\", \"ticksInQ\", \"ticksLeftOver\"])\n",
    "\n",
    "# prepare\n",
    "procs_current[\"compLeft\"] = procs_current[\"sla\"] - procs_current[\"compDone\"]\n",
    "procs_added[\"compLeft\"] = procs_added[\"sla\"]\n",
    "all_procs = pd.concat([procs_current[['tick', \"compLeft\"]], procs_added[[\"tick\", \"compLeft\"]]])\n",
    "load_num_procs_per_tick = procs_added[[\"tick\"]].groupby(\"tick\").size().reset_index(name='numProcsCurrent')\n",
    "load_work_per_tick = procs_added.groupby(\"tick\").sum().reset_index()\n",
    "\n",
    "procs_done['timePassedAsPct'] = (100 * procs_done[\"ticksPassed\"]) / procs_done[\"sla\"]\n",
    "\n",
    "procs_late = procs_done.where(procs_done[\"ticksPassed\"] > procs_done[\"sla\"]).dropna().reset_index(drop=True)\n",
    "procs_late = procs_late.where(procs_late[\"ticksPassed\"] > procs_late[\"actualComp\"]).dropna().reset_index(drop=True)\n",
    "\n",
    "proc_timings = pd.merge(procs_done, load_num_procs_per_tick, on='tick', how='left')\n",
    "\n",
    "ticks_left = util_metrics.groupby(\"tick\")[\"ticksLeftOver\"].agg(['min', 'max']).reset_index()\n",
    "ticks_left[\"range\"] = ticks_left[\"max\"] - ticks_left[\"min\"]\n"
   ]
  },
  {
   "cell_type": "code",
   "execution_count": 85,
   "metadata": {},
   "outputs": [
    {
     "data": {
      "text/html": [
       "<div>\n",
       "<style scoped>\n",
       "    .dataframe tbody tr th:only-of-type {\n",
       "        vertical-align: middle;\n",
       "    }\n",
       "\n",
       "    .dataframe tbody tr th {\n",
       "        vertical-align: top;\n",
       "    }\n",
       "\n",
       "    .dataframe thead th {\n",
       "        text-align: right;\n",
       "    }\n",
       "</style>\n",
       "<table border=\"1\" class=\"dataframe\">\n",
       "  <thead>\n",
       "    <tr style=\"text-align: right;\">\n",
       "      <th></th>\n",
       "      <th>tick</th>\n",
       "      <th>tickStarted</th>\n",
       "    </tr>\n",
       "  </thead>\n",
       "  <tbody>\n",
       "    <tr>\n",
       "      <th>0</th>\n",
       "      <td>4.0</td>\n",
       "      <td>2.0</td>\n",
       "    </tr>\n",
       "    <tr>\n",
       "      <th>1</th>\n",
       "      <td>5.0</td>\n",
       "      <td>2.0</td>\n",
       "    </tr>\n",
       "    <tr>\n",
       "      <th>2</th>\n",
       "      <td>5.0</td>\n",
       "      <td>2.0</td>\n",
       "    </tr>\n",
       "    <tr>\n",
       "      <th>3</th>\n",
       "      <td>6.0</td>\n",
       "      <td>1.0</td>\n",
       "    </tr>\n",
       "    <tr>\n",
       "      <th>4</th>\n",
       "      <td>6.0</td>\n",
       "      <td>3.0</td>\n",
       "    </tr>\n",
       "    <tr>\n",
       "      <th>...</th>\n",
       "      <td>...</td>\n",
       "      <td>...</td>\n",
       "    </tr>\n",
       "    <tr>\n",
       "      <th>1465</th>\n",
       "      <td>999.0</td>\n",
       "      <td>995.0</td>\n",
       "    </tr>\n",
       "    <tr>\n",
       "      <th>1466</th>\n",
       "      <td>999.0</td>\n",
       "      <td>997.0</td>\n",
       "    </tr>\n",
       "    <tr>\n",
       "      <th>1467</th>\n",
       "      <td>999.0</td>\n",
       "      <td>993.0</td>\n",
       "    </tr>\n",
       "    <tr>\n",
       "      <th>1468</th>\n",
       "      <td>999.0</td>\n",
       "      <td>997.0</td>\n",
       "    </tr>\n",
       "    <tr>\n",
       "      <th>1469</th>\n",
       "      <td>1000.0</td>\n",
       "      <td>993.0</td>\n",
       "    </tr>\n",
       "  </tbody>\n",
       "</table>\n",
       "<p>1470 rows × 2 columns</p>\n",
       "</div>"
      ],
      "text/plain": [
       "        tick  tickStarted\n",
       "0        4.0          2.0\n",
       "1        5.0          2.0\n",
       "2        5.0          2.0\n",
       "3        6.0          1.0\n",
       "4        6.0          3.0\n",
       "...      ...          ...\n",
       "1465   999.0        995.0\n",
       "1466   999.0        997.0\n",
       "1467   999.0        993.0\n",
       "1468   999.0        997.0\n",
       "1469  1000.0        993.0\n",
       "\n",
       "[1470 rows x 2 columns]"
      ]
     },
     "execution_count": 85,
     "metadata": {},
     "output_type": "execute_result"
    }
   ],
   "source": [
    "# ticks left over while proc becoming late\n",
    "\n",
    "procs_late[\"tickStarted\"] = procs_late[\"tick\"] - np.floor(procs_late[\"ticksPassed\"])\n",
    "late_procs_running = procs_late[[\"tickStarted\", \"tick\"]]\n",
    "\n",
    "late_procs_running\n"
   ]
  },
  {
   "cell_type": "code",
   "execution_count": 67,
   "metadata": {},
   "outputs": [],
   "source": [
    "# late = proc_timings.where((proc_timings[\"timePassedAsPct\"] > 100.1)).dropna()\n",
    "# typed = late.where(late[\"procType\"].str.contains(\"dynamic\")).dropna()\n",
    "\n",
    "# typed.sort_values(\"timePassedAsPct\", ascending=False).reset_index(drop=True)"
   ]
  },
  {
   "cell_type": "code",
   "execution_count": 68,
   "metadata": {},
   "outputs": [],
   "source": [
    "# ticks_left.where(ticks_left[\"range\"] > 0).dropna().sort_values(\"range\", ascending=False).reset_index(drop=True)"
   ]
  }
 ],
 "metadata": {
  "kernelspec": {
   "display_name": "Python 3",
   "language": "python",
   "name": "python3"
  },
  "language_info": {
   "codemirror_mode": {
    "name": "ipython",
    "version": 3
   },
   "file_extension": ".py",
   "mimetype": "text/x-python",
   "name": "python",
   "nbconvert_exporter": "python",
   "pygments_lexer": "ipython3",
   "version": "3.9.6"
  }
 },
 "nbformat": 4,
 "nbformat_minor": 2
}
